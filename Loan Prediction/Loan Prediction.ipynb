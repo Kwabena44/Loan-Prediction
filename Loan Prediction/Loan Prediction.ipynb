{
 "cells": [
  {
   "cell_type": "markdown",
   "metadata": {},
   "source": [
    "# Loan Prediction using Machine Learning"
   ]
  },
  {
   "cell_type": "markdown",
   "metadata": {},
   "source": [
    "This ML task requires you to build a model that will classify how much loan the user can take. \n",
    "Columns that are available in train data are user’s marital status, education, number of dependents, and employments.\n",
    "The train data has a loan status column with Y or N values stating whether user can take loan amount specified or not.\n",
    "\n",
    "You can choose an algorithm to build this model. Kindly apply cross validation during training and state the features important in building the model.\n",
    "\n",
    "Deliverables\n",
    "- csv output of predicted classification of test data\n",
    "- feature importance\n",
    "- train and test scores (mean score and standard deviation)\n",
    "\n",
    "**NB:** Kindly add comments to the cells describing what is done at each step"
   ]
  },
  {
   "cell_type": "code",
   "execution_count": 1,
   "metadata": {},
   "outputs": [],
   "source": [
    "# importing basic packages\n",
    "# Import the necessary pythonpackages that can help in building the model or plotting values\n",
    "import pandas as pd"
   ]
  },
  {
   "cell_type": "code",
   "execution_count": 2,
   "metadata": {},
   "outputs": [],
   "source": [
    "# reading input data\n",
    "train_data = pd.read_csv(\"./data/train_data.csv\")\n",
    "test_data = pd.read_csv(\"./data/test_data.csv\")"
   ]
  },
  {
   "cell_type": "code",
   "execution_count": 3,
   "metadata": {},
   "outputs": [
    {
     "data": {
      "text/plain": [
       "((614, 13), (367, 12))"
      ]
     },
     "execution_count": 3,
     "metadata": {},
     "output_type": "execute_result"
    }
   ],
   "source": [
    "train_data.shape, test_data.shape"
   ]
  },
  {
   "cell_type": "code",
   "execution_count": null,
   "metadata": {},
   "outputs": [],
   "source": []
  }
 ],
 "metadata": {
  "kernelspec": {
   "display_name": "Python 3",
   "language": "python",
   "name": "python3"
  },
  "language_info": {
   "codemirror_mode": {
    "name": "ipython",
    "version": 3
   },
   "file_extension": ".py",
   "mimetype": "text/x-python",
   "name": "python",
   "nbconvert_exporter": "python",
   "pygments_lexer": "ipython3",
   "version": "3.7.9"
  }
 },
 "nbformat": 4,
 "nbformat_minor": 4
}
